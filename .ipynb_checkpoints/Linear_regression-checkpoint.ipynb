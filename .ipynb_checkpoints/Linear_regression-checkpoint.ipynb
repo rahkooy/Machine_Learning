{
 "cells": [
  {
   "cell_type": "markdown",
   "id": "da2e337c",
   "metadata": {},
   "source": [
    "# Linear Regression, Basic Implementation\n",
    "## Source\n",
    "https://www.youtube.com/watch?v=4swNt7PiamQ&list=PLqnslRFeH2Upcrywf-u2etjdxxkL8nl7E&index=2"
   ]
  },
  {
   "cell_type": "markdown",
   "id": "a5e63828",
   "metadata": {},
   "source": [
    "## 1.Implementing Linear Regression:"
   ]
  },
  {
   "cell_type": "markdown",
   "id": "5bbd786f",
   "metadata": {},
   "source": [
    "#Approximation\n",
    "y_hat = w*x+b, #y_hat: linear predictor, w:weight, b:bias\n",
    "\n",
    "#Cost Function\n",
    "MSE = J(w,b)= (1/N)*sum(y_i-(w*x_i+b)**2  # Mean Squared Error\n",
    "\n",
    "J'(w,b) = (dJ/dw,dJ/db) # gradient of J(w,b) whih we want to minimize\n",
    "\n",
    "#Gradient Descent\n",
    "#Update Rules\n",
    "w = w - alpha * dw #alpha: learning rate\n",
    "b = b - alpha * db\n",
    "\n",
    "dJ/db = db = (1/N)*sum(-2*(y_i-(w*x_i+b)))=(1/N)*sum(2*(y_hat-y_i)"
   ]
  },
  {
   "cell_type": "code",
   "execution_count": 1,
   "id": "73904483",
   "metadata": {},
   "outputs": [],
   "source": [
    "import numpy as np"
   ]
  },
  {
   "cell_type": "code",
   "execution_count": 2,
   "id": "1fb24f15",
   "metadata": {},
   "outputs": [
    {
     "ename": "TypeError",
     "evalue": "LinearRegression.__init__() got an unexpected keyword argument 'learning_rate'",
     "output_type": "error",
     "traceback": [
      "\u001b[0;31m---------------------------------------------------------------------------\u001b[0m",
      "\u001b[0;31mTypeError\u001b[0m                                 Traceback (most recent call last)",
      "\u001b[0;32m/tmp/ipykernel_69485/3969123507.py\u001b[0m in \u001b[0;36m<module>\u001b[0;34m\u001b[0m\n\u001b[1;32m     55\u001b[0m     )\n\u001b[1;32m     56\u001b[0m \u001b[0;34m\u001b[0m\u001b[0m\n\u001b[0;32m---> 57\u001b[0;31m     \u001b[0mregressor\u001b[0m \u001b[0;34m=\u001b[0m \u001b[0mLinearRegression\u001b[0m\u001b[0;34m(\u001b[0m\u001b[0mlearning_rate\u001b[0m\u001b[0;34m=\u001b[0m\u001b[0;36m0.01\u001b[0m\u001b[0;34m,\u001b[0m \u001b[0mn_iters\u001b[0m\u001b[0;34m=\u001b[0m\u001b[0;36m1000\u001b[0m\u001b[0;34m)\u001b[0m\u001b[0;34m\u001b[0m\u001b[0;34m\u001b[0m\u001b[0m\n\u001b[0m\u001b[1;32m     58\u001b[0m     \u001b[0mregressor\u001b[0m\u001b[0;34m.\u001b[0m\u001b[0mfit\u001b[0m\u001b[0;34m(\u001b[0m\u001b[0mX_train\u001b[0m\u001b[0;34m,\u001b[0m \u001b[0my_train\u001b[0m\u001b[0;34m)\u001b[0m\u001b[0;34m\u001b[0m\u001b[0;34m\u001b[0m\u001b[0m\n\u001b[1;32m     59\u001b[0m     \u001b[0mpredictions\u001b[0m \u001b[0;34m=\u001b[0m \u001b[0mregressor\u001b[0m\u001b[0;34m.\u001b[0m\u001b[0mpredict\u001b[0m\u001b[0;34m(\u001b[0m\u001b[0mX_test\u001b[0m\u001b[0;34m)\u001b[0m\u001b[0;34m\u001b[0m\u001b[0;34m\u001b[0m\u001b[0m\n",
      "\u001b[0;31mTypeError\u001b[0m: LinearRegression.__init__() got an unexpected keyword argument 'learning_rate'"
     ]
    }
   ],
   "source": [
    "def r2_score(y_true, y_pred):\n",
    "    corr_matrix = np.corrcoef(y_true, y_pred)\n",
    "    corr = corr_matrix[0, 1]\n",
    "    return corr ** 2\n",
    "\n",
    "\n",
    "class LinearRegression:\n",
    "    def __init__(self, lr=0.001, n_iters=1000):\n",
    "        self.lr = lr\n",
    "        self.n_iter = n_ites\n",
    "        self.weights = None\n",
    "        self.bias = None\n",
    "    \n",
    "    def fit(self, X, y):\n",
    "        n_samples, n_features = X.shape\n",
    "\n",
    "        # init parameters\n",
    "        self.weights = np.zeros(n_features)\n",
    "        self.bias = 0\n",
    "        \n",
    "        #Gradient Descent\n",
    "        for _ in range(self.n_iters):\n",
    "            # w= w -alpha * dw, \n",
    "            y_predicted = np.dot(X, self.weights) * bias\n",
    "            #  dJ/dw = I/N(sum 2x_i(y_hat-y))\n",
    "            dw = (1/n_samples) * np.dot(y_predicted - y)\n",
    "            #  dJ/db = I/N(sum 2(y_hat-y))\n",
    "            db = (1/n_samples) * np.sum(y_predicted - y)\n",
    "            \n",
    "            #update parameters\n",
    "            self.weights -= self.lr * dw\n",
    "            self.bias -= self.lr * db\n",
    "            \n",
    "    \n",
    "    def predict(self, X):\n",
    "        y_approximated = np.dot(X, self.weights) + self.bias\n",
    "        return y_approximated\n",
    "    \n",
    "    # Testing\n",
    "if __name__ == \"__main__\":\n",
    "    # Imports\n",
    "    import matplotlib.pyplot as plt\n",
    "    from sklearn.model_selection import train_test_split\n",
    "    from sklearn import datasets\n",
    "\n",
    "    def mean_squared_error(y_true, y_pred):\n",
    "        return np.mean((y_true - y_pred) ** 2)\n",
    "\n",
    "    X, y = datasets.make_regression(\n",
    "        n_samples=100, n_features=1, noise=20, random_state=4\n",
    "    )\n",
    "\n",
    "    X_train, X_test, y_train, y_test = train_test_split(\n",
    "        X, y, test_size=0.2, random_state=1234\n",
    "    )\n",
    "\n",
    "    regressor = LinearRegression(learning_rate=0.01, n_iters=1000)\n",
    "    regressor.fit(X_train, y_train)\n",
    "    predictions = regressor.predict(X_test)\n",
    "\n",
    "    mse = mean_squared_error(y_test, predictions)\n",
    "    print(\"MSE:\", mse)\n",
    "\n",
    "    accu = r2_score(y_test, predictions)\n",
    "    print(\"Accuracy:\", accu)\n",
    "\n",
    "    y_pred_line = regressor.predict(X)\n",
    "    cmap = plt.get_cmap(\"viridis\")\n",
    "    fig = plt.figure(figsize=(8, 6))\n",
    "    m1 = plt.scatter(X_train, y_train, color=cmap(0.9), s=10)\n",
    "    m2 = plt.scatter(X_test, y_test, color=cmap(0.5), s=10)\n",
    "    plt.plot(X, y_pred_line, color=\"black\", linewidth=2, label=\"Prediction\")\n",
    "    plt.show()\n",
    "     "
   ]
  },
  {
   "cell_type": "markdown",
   "id": "d8ec4372",
   "metadata": {},
   "source": [
    "## 2. Using Linear Regression method in scipy library\n",
    "source: https://www.w3schools.com/python/python_ml_linear_regression.asp"
   ]
  },
  {
   "cell_type": "code",
   "execution_count": 20,
   "id": "29845f45",
   "metadata": {},
   "outputs": [],
   "source": [
    "import matplotlib.pyplot as plt\n",
    "from scipy import stats"
   ]
  },
  {
   "cell_type": "code",
   "execution_count": 21,
   "id": "35d4751e",
   "metadata": {},
   "outputs": [],
   "source": [
    "x = [3,4,7,5,2,5,8, 10, 9, 11]\n",
    "y = [90, 89, 95, 85, 80, 90, 70, 58, 78, 88]"
   ]
  },
  {
   "cell_type": "code",
   "execution_count": 22,
   "id": "bab0acdc",
   "metadata": {},
   "outputs": [
    {
     "name": "stdout",
     "output_type": "stream",
     "text": [
      "LinregressResult(slope=-1.5545023696682465, intercept=92.24881516587678, rvalue=-0.424819236688094, pvalue=0.22103869771858106, stderr=1.1711817114156586, intercept_stderr=8.231666301365285)\n"
     ]
    }
   ],
   "source": [
    "print(stats.linregress(x,y))\n",
    "slope, intercept, r, p, std_err = stats.linregress(x, y)"
   ]
  },
  {
   "cell_type": "markdown",
   "id": "9abc22dd",
   "metadata": {},
   "source": [
    "intercept:\n",
    "\n",
    "r value: ranges from -1 to 1, where 0 means no relationship, and 1 (and -1) means 100% related.\n",
    "\n",
    "p value: \n",
    "\n",
    "std error:\n",
    "\n",
    "intercept std erroe:\n"
   ]
  },
  {
   "cell_type": "code",
   "execution_count": 23,
   "id": "68ee0b47",
   "metadata": {},
   "outputs": [],
   "source": [
    "def reg_line(x):\n",
    "    return slope * x + intercept\n",
    "\n",
    "model = list(map(reg_line,x))"
   ]
  },
  {
   "cell_type": "code",
   "execution_count": 24,
   "id": "1950a23f",
   "metadata": {},
   "outputs": [
    {
     "data": {
      "image/png": "[encoded data removed]",
      "text/plain": [
       "<Figure size 432x288 with 1 Axes>"
      ]
     },
     "metadata": {
      "needs_background": "light"
     },
     "output_type": "display_data"
    }
   ],
   "source": [
    "plt.scatter(x, y)\n",
    "plt.plot(x, model)\n",
    "plt.show()"
   ]
  },
  {
   "cell_type": "markdown",
   "id": "baf58697",
   "metadata": {},
   "source": [
    "## An example of Linear Regression as a bad example"
   ]
  },
  {
   "cell_type": "code",
   "execution_count": 25,
   "id": "698bfb23",
   "metadata": {},
   "outputs": [
    {
     "data": {
      "image/png": "[encoded data removed]",
      "text/plain": [
       "<Figure size 432x288 with 1 Axes>"
      ]
     },
     "metadata": {
      "needs_background": "light"
     },
     "output_type": "display_data"
    },
    {
     "name": "stdout",
     "output_type": "stream",
     "text": [
      "0.01331814154297491\n"
     ]
    }
   ],
   "source": [
    "x = [89,43,36,36,95,10,66,34,38,20,26,29,48,64,6,5,36,66,72,40]\n",
    "y = [21,46,3,35,67,95,53,72,58,10,26,34,90,33,38,20,56,2,47,15]\n",
    "\n",
    "slope, intercept, r, p, std_err = stats.linregress(x, y)\n",
    "\n",
    "def myfunc(x):\n",
    "  return slope * x + intercept\n",
    "\n",
    "mymodel = list(map(myfunc, x))\n",
    "\n",
    "plt.scatter(x, y)\n",
    "plt.plot(x, mymodel)\n",
    "plt.show()\n",
    "\n",
    "print(r)"
   ]
  },
  {
   "cell_type": "markdown",
   "id": "7d3084fa",
   "metadata": {},
   "source": [
    "## sklearn library; numpy arrays of dim >=2"
   ]
  },
  {
   "cell_type": "code",
   "execution_count": 35,
   "id": "958565d5",
   "metadata": {},
   "outputs": [],
   "source": [
    "from sklearn.linear_model import LinearRegression\n",
    "from sklearn import metrics"
   ]
  },
  {
   "cell_type": "code",
   "execution_count": 36,
   "id": "9216fad1",
   "metadata": {},
   "outputs": [],
   "source": [
    "import numpy as np\n",
    "X = np.array([[1, 1], [1, 2], [2, 2], [2, 3]])\n",
    "# y = 1 * x_0 + 2 * x_1 + 3\n",
    "y = np.dot(X, np.array([1, 2])) + 3\n",
    "\n",
    "reg = LinearRegression().fit(X, y)"
   ]
  },
  {
   "cell_type": "code",
   "execution_count": 37,
   "id": "efded3a3",
   "metadata": {},
   "outputs": [
    {
     "name": "stdout",
     "output_type": "stream",
     "text": [
      "1.0 [1. 2.] 3.0000000000000018 [16.]\n"
     ]
    }
   ],
   "source": [
    "print(reg.score(X, y), reg.coef_, reg.intercept_, \n",
    "      reg.predict(np.array([[3, 5]])))"
   ]
  },
  {
   "cell_type": "code",
   "execution_count": null,
   "id": "92204fcb",
   "metadata": {},
   "outputs": [],
   "source": []
  }
 ],
 "metadata": {
  "kernelspec": {
   "display_name": "Python 3 (ipykernel)",
   "language": "python",
   "name": "python3"
  },
  "language_info": {
   "codemirror_mode": {
    "name": "ipython",
    "version": 3
   },
   "file_extension": ".py",
   "mimetype": "text/x-python",
   "name": "python",
   "nbconvert_exporter": "python",
   "pygments_lexer": "ipython3",
   "version": "3.10.12"
  }
 },
 "nbformat": 4,
 "nbformat_minor": 5
}
