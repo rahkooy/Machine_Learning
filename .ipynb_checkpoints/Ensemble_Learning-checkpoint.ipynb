{
 "cells": [
  {
   "cell_type": "markdown",
   "id": "5acd7dc1",
   "metadata": {},
   "source": [
    "# Ensemple Learning:\n",
    "## Bootstrap Aggregation (Bagging)\n",
    "\n",
    "Source: https://www.w3schools.com/python/python_ml_bagging.asp\n",
    "\n",
    "Goal: identify classes of wines from Sklearn's wine dataset"
   ]
  },
  {
   "cell_type": "code",
   "execution_count": 1,
   "id": "6528fcf1",
   "metadata": {},
   "outputs": [],
   "source": [
    "from sklearn import datasets\n",
    "from sklearn.model_selection import train_test_split\n",
    "from sklearn.metrics import accuracy_score\n",
    "from sklearn.tree import DecisionTreeClassifier"
   ]
  },
  {
   "cell_type": "code",
   "execution_count": 7,
   "id": "c023a200",
   "metadata": {},
   "outputs": [],
   "source": [
    "data = datasets.load_wine()\n",
    "\n",
    "X = data.data #input features\n",
    "y = data.target # target"
   ]
  },
  {
   "cell_type": "code",
   "execution_count": 10,
   "id": "659fa995",
   "metadata": {},
   "outputs": [],
   "source": [
    "#split X and y into train and test sets\n",
    "X_train, X_test, y_train, y_test = train_test_split(X, y, test_size = 0.25, random_state = 22)"
   ]
  },
  {
   "cell_type": "code",
   "execution_count": 11,
   "id": "87187bb0",
   "metadata": {},
   "outputs": [
    {
     "data": {
      "text/plain": [
       "DecisionTreeClassifier(random_state=22)"
      ]
     },
     "execution_count": 11,
     "metadata": {},
     "output_type": "execute_result"
    }
   ],
   "source": [
    "#classifying w Decision Trees\n",
    "dtree = DecisionTreeClassifier(random_state= 22)\n",
    "dtree.fit(X_train, y_train)"
   ]
  },
  {
   "cell_type": "code",
   "execution_count": null,
   "id": "f053c403",
   "metadata": {},
   "outputs": [],
   "source": []
  }
 ],
 "metadata": {
  "kernelspec": {
   "display_name": "Python 3 (ipykernel)",
   "language": "python",
   "name": "python3"
  },
  "language_info": {
   "codemirror_mode": {
    "name": "ipython",
    "version": 3
   },
   "file_extension": ".py",
   "mimetype": "text/x-python",
   "name": "python",
   "nbconvert_exporter": "python",
   "pygments_lexer": "ipython3",
   "version": "3.10.12"
  }
 },
 "nbformat": 4,
 "nbformat_minor": 5
}
