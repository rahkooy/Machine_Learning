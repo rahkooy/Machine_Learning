{
 "cells": [
  {
   "cell_type": "markdown",
   "id": "049537e3",
   "metadata": {},
   "source": [
    "# AdaBoost"
   ]
  },
  {
   "cell_type": "code",
   "execution_count": 20,
   "id": "d990c334",
   "metadata": {},
   "outputs": [],
   "source": [
    "from sklearn.datasets import load_iris\n",
    "from sklearn.model_selection import cross_val_score\n",
    "from sklearn import metrics\n",
    "from sklearn.ensemble import AdaBoostClassifier\n",
    "from sklearn.model_selection import train_test_split"
   ]
  },
  {
   "cell_type": "code",
   "execution_count": 21,
   "id": "40a0ab47",
   "metadata": {},
   "outputs": [],
   "source": [
    "X, y = load_iris(return_X_y=True)\n",
    "X_train, X_test, y_train, y_test = train_test_split(X,y)"
   ]
  },
  {
   "cell_type": "code",
   "execution_count": 22,
   "id": "03dccdf8",
   "metadata": {},
   "outputs": [],
   "source": [
    "def adaboost(X_train,X_test,y_train,y_test,estimater_range): \n",
    "    scores =[]\n",
    "    for n_estimators in estimator_range:\n",
    "        #create classifier\n",
    "        clf = AdaBoostClassifier(n_estimators=n_estimators, algorithm=\"SAMME\",)\n",
    "        #fit data and predict\n",
    "        clf.fit(X_train,y_train)\n",
    "        y_pred = clf.predict(X_test)\n",
    "        #errors\n",
    "        scores = cross_val_score(clf, X, y, cv=5)\n",
    "        scores.mean()\n",
    "        acc = metrics.accuracy_score(y_test,y_pred)\n",
    "    return y_pred, scores, acc"
   ]
  },
  {
   "cell_type": "code",
   "execution_count": 23,
   "id": "95887d5b",
   "metadata": {},
   "outputs": [
    {
     "data": {
      "text/plain": [
       "(array([1, 0, 2, 0, 0, 1, 1, 2, 1, 0, 2, 0, 2, 2, 2, 2, 2, 2, 0, 1, 2, 0,\n",
       "        2, 2, 1, 1, 0, 0, 2, 2, 2, 1, 0, 1, 1, 2, 2, 2]),\n",
       " array([0.96666667, 0.96666667, 0.9       , 0.86666667, 1.        ]),\n",
       " 0.9473684210526315)"
      ]
     },
     "execution_count": 23,
     "metadata": {},
     "output_type": "execute_result"
    }
   ],
   "source": [
    "estimator_range = [2,4]\n",
    "adaboost(X_train,X_test,y_train,y_test,estimator_range)"
   ]
  },
  {
   "cell_type": "code",
   "execution_count": null,
   "id": "335bceab",
   "metadata": {},
   "outputs": [],
   "source": []
  }
 ],
 "metadata": {
  "kernelspec": {
   "display_name": "Python 3 (ipykernel)",
   "language": "python",
   "name": "python3"
  },
  "language_info": {
   "codemirror_mode": {
    "name": "ipython",
    "version": 3
   },
   "file_extension": ".py",
   "mimetype": "text/x-python",
   "name": "python",
   "nbconvert_exporter": "python",
   "pygments_lexer": "ipython3",
   "version": "3.8.18"
  }
 },
 "nbformat": 4,
 "nbformat_minor": 5
}
