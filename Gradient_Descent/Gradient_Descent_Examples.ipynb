{
 "cells": [
  {
   "cell_type": "markdown",
   "id": "7cc85a6f",
   "metadata": {},
   "source": [
    "# Examples of Built-In Gradient Descent"
   ]
  },
  {
   "cell_type": "markdown",
   "id": "ca37f33f",
   "metadata": {},
   "source": [
    "## Gradient Calculations\n",
    "Do not follow the video, but read from\n",
    "https://pytorch.org/tutorials/beginner/blitz/autograd_tutorial.html"
   ]
  },
  {
   "cell_type": "markdown",
   "id": "06a66dd2",
   "metadata": {},
   "source": [
    "### 1- Scalar domain\n",
    "Given a function with a scalar domain y:R^3 --> R, y = y(x), i.e., with a scalar domain R, (e.g., y = mean(x)=(x1+x2+x3)/3), \n",
    "Compute the gradient of y, dy/dx = (dy/dx1,dy/dx2,dy/dx3)"
   ]
  },
  {
   "cell_type": "code",
   "execution_count": 10,
   "id": "143da18c",
   "metadata": {},
   "outputs": [
    {
     "name": "stdout",
     "output_type": "stream",
     "text": [
      "tensor([1., 1., 1.], requires_grad=True)\n",
      "tensor(1., grad_fn=<MeanBackward0>)\n",
      "tensor([0.3333, 0.3333, 0.3333])\n"
     ]
    }
   ],
   "source": [
    "# 1-Firstly, defining x, requires_grad argument must be set True:\n",
    "x = torch.tensor([1.,1.,1.], requires_grad=True)\n",
    "print(x)\n",
    "# 2-Secondly, define y\n",
    "y = x.mean()\n",
    "print(y)\n",
    "# 3-Third, use back propogation to compute the gradient of y\n",
    "y.backward()\n",
    "#4-Fourth, As pytorch stores the gradient in the grad argument of x\n",
    "# read it as:\n",
    "print(x.grad)"
   ]
  },
  {
   "cell_type": "markdown",
   "id": "412691b9",
   "metadata": {},
   "source": [
    "### 2 - Non-Scalar Domain\n",
    "Given a non-scalar fnction y:R^3 --> R^3, y = y(x), i.e., with a  non-scalar domain R^3, (e.g., y = x+2), \n",
    "Compute the gradient of y, dy/dx = (dy/dx1,dy/dx2,dy/dx3), \n",
    "scaled at a given tensor v, i.e., component-wise product of v and dy/dx"
   ]
  },
  {
   "cell_type": "code",
   "execution_count": 11,
   "id": "125d8f20",
   "metadata": {},
   "outputs": [
    {
     "name": "stdout",
     "output_type": "stream",
     "text": [
      "tensor([4., 2., 2.])\n"
     ]
    }
   ],
   "source": [
    "# via specifying the gradient argument of backward: \n",
    "x = torch.tensor([1.,1.,1.], requires_grad=True)\n",
    "y = 2*x+2\n",
    "v = torch.tensor([2.0,1.0,1.0])\n",
    "y.backward(gradient =v)\n",
    "print(x.grad)"
   ]
  },
  {
   "cell_type": "markdown",
   "id": "76a7014c",
   "metadata": {},
   "source": [
    "### 3 - Chain Rule\n",
    "Given a  combination of functions mean(z(y(x))), \n",
    "compute d mean/dx"
   ]
  },
  {
   "cell_type": "code",
   "execution_count": 12,
   "id": "c079554b",
   "metadata": {},
   "outputs": [],
   "source": [
    "import torch"
   ]
  },
  {
   "cell_type": "code",
   "execution_count": 22,
   "id": "962e192a",
   "metadata": {},
   "outputs": [
    {
     "name": "stdout",
     "output_type": "stream",
     "text": [
      "x  tensor([0.7171, 0.2278, 0.8268], requires_grad=True)\n",
      "y  tensor([2.7171, 2.2278, 2.8268], grad_fn=<AddBackward0>)\n",
      "z  tensor([9.3826, 6.9632, 9.9909], grad_fn=<AddBackward0>)\n",
      "zmean  tensor(8.7789, grad_fn=<MeanBackward0>)\n",
      "tensor([1.8114, 1.4852, 1.8845])\n"
     ]
    }
   ],
   "source": [
    "x=torch.rand(3,requires_grad=True)\n",
    "print(\"x \",x)\n",
    "y = x+2\n",
    "print(\"y \", y)\n",
    "z = y**2+2\n",
    "print(\"z \",z)\n",
    "z = z.mean()\n",
    "print(\"zmean \", z)\n",
    "z.backward() # computes dz/dx = dz/dy * dy/dx\n",
    "print(x.grad)"
   ]
  },
  {
   "cell_type": "code",
   "execution_count": 27,
   "id": "6d2652e7",
   "metadata": {},
   "outputs": [
    {
     "name": "stdout",
     "output_type": "stream",
     "text": [
      "tensor([0.7171, 0.2278, 0.8268])\n",
      "tensor([0.7171, 0.2278, 0.8268])\n",
      "tensor([0.7171, 0.2278, 0.8268])\n",
      "tensor([2.7171, 2.2278, 2.8268])\n"
     ]
    }
   ],
   "source": [
    "# Prevent tracking computed gradients\n",
    "# solution 1: requires_grad set to false\n",
    "print(x)\n",
    "x.requires_grad_(False)\n",
    "print(x)\n",
    "\n",
    "#solution 2: detach\n",
    "xd = x.detach()\n",
    "print(xd)\n",
    "\n",
    "#solution 3: no_grad function\n",
    "with torch.no_grad():\n",
    "    y = x+2\n",
    "    print(y)"
   ]
  },
  {
   "cell_type": "code",
   "execution_count": 33,
   "id": "0f23c39d",
   "metadata": {},
   "outputs": [
    {
     "name": "stdout",
     "output_type": "stream",
     "text": [
      "tensor([3., 3., 3., 3.])\n",
      "tensor([3., 3., 3., 3.])\n",
      "tensor([3., 3., 3., 3.])\n"
     ]
    }
   ],
   "source": [
    "# each time running backward will accommulate/add values to \n",
    "# the previous value of .grad\n",
    "#IMPORTANT FOR TRAINING STEPS\n",
    "weights = torch.ones(4, requires_grad=True)\n",
    "for epoch in range(3):\n",
    "    model_output = (weights*3).sum()\n",
    "    model_output.backward()\n",
    "    print(weights.grad)\n",
    "    weights.grad.zero_() # this prevents accummulation of values "
   ]
  },
  {
   "cell_type": "code",
   "execution_count": 47,
   "id": "510de8b1",
   "metadata": {},
   "outputs": [
    {
     "ename": "TypeError",
     "evalue": "params argument given to the optimizer should be an iterable of Tensors or dicts, but got torch.FloatTensor",
     "output_type": "error",
     "traceback": [
      "\u001b[0;31m---------------------------------------------------------------------------\u001b[0m",
      "\u001b[0;31mTypeError\u001b[0m                                 Traceback (most recent call last)",
      "\u001b[0;32m/tmp/ipykernel_68611/3331185258.py\u001b[0m in \u001b[0;36m<module>\u001b[0;34m\u001b[0m\n\u001b[1;32m      3\u001b[0m \u001b[0mweights\u001b[0m \u001b[0;34m=\u001b[0m \u001b[0mtorch\u001b[0m\u001b[0;34m.\u001b[0m\u001b[0mones\u001b[0m\u001b[0;34m(\u001b[0m\u001b[0;36m4\u001b[0m\u001b[0;34m,\u001b[0m \u001b[0mrequires_grad\u001b[0m\u001b[0;34m=\u001b[0m\u001b[0;32mTrue\u001b[0m\u001b[0;34m)\u001b[0m\u001b[0;34m\u001b[0m\u001b[0;34m\u001b[0m\u001b[0m\n\u001b[1;32m      4\u001b[0m \u001b[0;31m#print(weights)\u001b[0m\u001b[0;34m\u001b[0m\u001b[0;34m\u001b[0m\u001b[0m\n\u001b[0;32m----> 5\u001b[0;31m \u001b[0moptimizer\u001b[0m \u001b[0;34m=\u001b[0m \u001b[0mtorch\u001b[0m\u001b[0;34m.\u001b[0m\u001b[0moptim\u001b[0m\u001b[0;34m.\u001b[0m\u001b[0mSGD\u001b[0m\u001b[0;34m(\u001b[0m\u001b[0mweights\u001b[0m\u001b[0;34m,\u001b[0m \u001b[0mlr\u001b[0m\u001b[0;34m=\u001b[0m\u001b[0;36m0.01\u001b[0m\u001b[0;34m)\u001b[0m\u001b[0;34m\u001b[0m\u001b[0;34m\u001b[0m\u001b[0m\n\u001b[0m\u001b[1;32m      6\u001b[0m \u001b[0moptimizer\u001b[0m\u001b[0;34m.\u001b[0m\u001b[0mstep\u001b[0m\u001b[0;34m(\u001b[0m\u001b[0;34m)\u001b[0m\u001b[0;34m\u001b[0m\u001b[0;34m\u001b[0m\u001b[0m\n\u001b[1;32m      7\u001b[0m \u001b[0moptimizer\u001b[0m\u001b[0;34m.\u001b[0m\u001b[0mzero_grad\u001b[0m\u001b[0;34m(\u001b[0m\u001b[0;34m)\u001b[0m\u001b[0;34m\u001b[0m\u001b[0;34m\u001b[0m\u001b[0m\n",
      "\u001b[0;32m~/.local/lib/python3.10/site-packages/torch/optim/sgd.py\u001b[0m in \u001b[0;36m__init__\u001b[0;34m(self, params, lr, momentum, dampening, weight_decay, nesterov, maximize, foreach, differentiable, fused)\u001b[0m\n\u001b[1;32m     25\u001b[0m         \u001b[0;32mif\u001b[0m \u001b[0mnesterov\u001b[0m \u001b[0;32mand\u001b[0m \u001b[0;34m(\u001b[0m\u001b[0mmomentum\u001b[0m \u001b[0;34m<=\u001b[0m \u001b[0;36m0\u001b[0m \u001b[0;32mor\u001b[0m \u001b[0mdampening\u001b[0m \u001b[0;34m!=\u001b[0m \u001b[0;36m0\u001b[0m\u001b[0;34m)\u001b[0m\u001b[0;34m:\u001b[0m\u001b[0;34m\u001b[0m\u001b[0;34m\u001b[0m\u001b[0m\n\u001b[1;32m     26\u001b[0m             \u001b[0;32mraise\u001b[0m \u001b[0mValueError\u001b[0m\u001b[0;34m(\u001b[0m\u001b[0;34m\"Nesterov momentum requires a momentum and zero dampening\"\u001b[0m\u001b[0;34m)\u001b[0m\u001b[0;34m\u001b[0m\u001b[0;34m\u001b[0m\u001b[0m\n\u001b[0;32m---> 27\u001b[0;31m         \u001b[0msuper\u001b[0m\u001b[0;34m(\u001b[0m\u001b[0;34m)\u001b[0m\u001b[0;34m.\u001b[0m\u001b[0m__init__\u001b[0m\u001b[0;34m(\u001b[0m\u001b[0mparams\u001b[0m\u001b[0;34m,\u001b[0m \u001b[0mdefaults\u001b[0m\u001b[0;34m)\u001b[0m\u001b[0;34m\u001b[0m\u001b[0;34m\u001b[0m\u001b[0m\n\u001b[0m\u001b[1;32m     28\u001b[0m \u001b[0;34m\u001b[0m\u001b[0m\n\u001b[1;32m     29\u001b[0m         \u001b[0;32mif\u001b[0m \u001b[0mfused\u001b[0m\u001b[0;34m:\u001b[0m\u001b[0;34m\u001b[0m\u001b[0;34m\u001b[0m\u001b[0m\n",
      "\u001b[0;32m~/.local/lib/python3.10/site-packages/torch/optim/optimizer.py\u001b[0m in \u001b[0;36m__init__\u001b[0;34m(self, params, defaults)\u001b[0m\n\u001b[1;32m    268\u001b[0m                 \u001b[0mparams\u001b[0m \u001b[0;34m=\u001b[0m \u001b[0;34m[\u001b[0m\u001b[0mparams\u001b[0m\u001b[0;34m]\u001b[0m\u001b[0;34m\u001b[0m\u001b[0;34m\u001b[0m\u001b[0m\n\u001b[1;32m    269\u001b[0m             \u001b[0;32melse\u001b[0m\u001b[0;34m:\u001b[0m\u001b[0;34m\u001b[0m\u001b[0;34m\u001b[0m\u001b[0m\n\u001b[0;32m--> 270\u001b[0;31m                 raise TypeError(\"params argument given to the optimizer should be \"\n\u001b[0m\u001b[1;32m    271\u001b[0m                                 \u001b[0;34m\"an iterable of Tensors or dicts, but got \"\u001b[0m \u001b[0;34m+\u001b[0m\u001b[0;34m\u001b[0m\u001b[0;34m\u001b[0m\u001b[0m\n\u001b[1;32m    272\u001b[0m                                 torch.typename(params))\n",
      "\u001b[0;31mTypeError\u001b[0m: params argument given to the optimizer should be an iterable of Tensors or dicts, but got torch.FloatTensor"
     ]
    }
   ],
   "source": [
    "# Example of preventing accummulation from\n",
    "# optimizer from Stochastic Gradient Descent\n",
    "weights = torch.ones(4, requires_grad=True)\n",
    "#print(weights)\n",
    "optimizer = torch.optim.SGD(weights, lr=0.01)\n",
    "optimizer.step()\n",
    "optimizer.zero_grad()"
   ]
  },
  {
   "cell_type": "markdown",
   "id": "b306cc8d",
   "metadata": {},
   "source": [
    "## Backpropogation\n",
    "T Know: Computation Graph from https://pytorch.org/tutorials/beginner/blitz/autograd_tutorial.html\n",
    "Loss Function's gradient is usually computed, where \n",
    "y_hat = w *x is a linear regression\n",
    "s = y_hat - y\n",
    "loss = s**2"
   ]
  },
  {
   "cell_type": "code",
   "execution_count": 53,
   "id": "9126d113",
   "metadata": {},
   "outputs": [
    {
     "name": "stdout",
     "output_type": "stream",
     "text": [
      "tensor(1., grad_fn=<PowBackward0>)\n",
      "tensor(-2.)\n"
     ]
    }
   ],
   "source": [
    "x = torch.tensor(1.)\n",
    "y = torch.tensor(2.)\n",
    "w = torch.tensor(1., requires_grad=True) # for weight we'd like grad\n",
    "\n",
    "#forward pass and compute loss\n",
    "y_hat = w * x\n",
    "loss = (y_hat -y)**2\n",
    "print(loss)\n",
    "\n",
    "# backward pass\n",
    "loss.backward()\n",
    "print(w.grad)"
   ]
  },
  {
   "cell_type": "code",
   "execution_count": null,
   "id": "b08ff062",
   "metadata": {},
   "outputs": [],
   "source": []
  }
 ],
 "metadata": {
  "kernelspec": {
   "display_name": "Python 3 (ipykernel)",
   "language": "python",
   "name": "python3"
  },
  "language_info": {
   "codemirror_mode": {
    "name": "ipython",
    "version": 3
   },
   "file_extension": ".py",
   "mimetype": "text/x-python",
   "name": "python",
   "nbconvert_exporter": "python",
   "pygments_lexer": "ipython3",
   "version": "3.10.12"
  }
 },
 "nbformat": 4,
 "nbformat_minor": 5
}
