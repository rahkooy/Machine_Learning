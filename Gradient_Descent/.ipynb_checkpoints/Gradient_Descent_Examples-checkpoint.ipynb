{
 "cells": [
  {
   "cell_type": "markdown",
   "id": "7cc85a6f",
   "metadata": {},
   "source": [
    "# Examples of Computing Gradient Descent via PyTorch"
   ]
  },
  {
   "cell_type": "markdown",
   "id": "ca37f33f",
   "metadata": {},
   "source": [
    "## Gradient Calculations\n",
    "Source: https://pytorch.org/tutorials/beginner/blitz/autograd_tutorial.html"
   ]
  },
  {
   "cell_type": "markdown",
   "id": "06a66dd2",
   "metadata": {},
   "source": [
    "### 1- Scalar domain\n",
    "Given a function with a scalar domain y:R^3 --> R, y = y(x), i.e., with a scalar domain R, (e.g., y = mean(x)=(x1+x2+x3)/3), \n",
    "Compute the gradient of y, dy/dx = (dy/dx1,dy/dx2,dy/dx3)"
   ]
  },
  {
   "cell_type": "code",
   "execution_count": 13,
   "id": "3d987df0-30d6-45a2-ae5d-1fdf49e48fd7",
   "metadata": {},
   "outputs": [
    {
     "name": "stdout",
     "output_type": "stream",
     "text": [
      "Collecting torch\n",
      "  Downloading torch-2.4.0-cp312-none-macosx_11_0_arm64.whl.metadata (26 kB)\n",
      "Requirement already satisfied: filelock in /opt/anaconda3/lib/python3.12/site-packages (from torch) (3.13.1)\n",
      "Requirement already satisfied: typing-extensions>=4.8.0 in /opt/anaconda3/lib/python3.12/site-packages (from torch) (4.11.0)\n",
      "Requirement already satisfied: sympy in /opt/anaconda3/lib/python3.12/site-packages (from torch) (1.12)\n",
      "Requirement already satisfied: networkx in /opt/anaconda3/lib/python3.12/site-packages (from torch) (3.2.1)\n",
      "Requirement already satisfied: jinja2 in /opt/anaconda3/lib/python3.12/site-packages (from torch) (3.1.4)\n",
      "Requirement already satisfied: fsspec in /opt/anaconda3/lib/python3.12/site-packages (from torch) (2024.3.1)\n",
      "Requirement already satisfied: setuptools in /opt/anaconda3/lib/python3.12/site-packages (from torch) (69.5.1)\n",
      "Requirement already satisfied: MarkupSafe>=2.0 in /opt/anaconda3/lib/python3.12/site-packages (from jinja2->torch) (2.1.3)\n",
      "Requirement already satisfied: mpmath>=0.19 in /opt/anaconda3/lib/python3.12/site-packages (from sympy->torch) (1.3.0)\n",
      "Downloading torch-2.4.0-cp312-none-macosx_11_0_arm64.whl (62.1 MB)\n",
      "\u001b[2K   \u001b[90m━━━━━━━━━━━━━━━━━━━━━━━━━━━━━━━━━━━━━━━━\u001b[0m \u001b[32m62.1/62.1 MB\u001b[0m \u001b[31m2.4 MB/s\u001b[0m eta \u001b[36m0:00:00\u001b[0m00:01\u001b[0m00:01\u001b[0m0m\n",
      "\u001b[?25hInstalling collected packages: torch\n",
      "Successfully installed torch-2.4.0\n",
      "Note: you may need to restart the kernel to use updated packages.\n"
     ]
    }
   ],
   "source": [
    "pip install torch"
   ]
  },
  {
   "cell_type": "code",
   "execution_count": 15,
   "id": "e9e89fb5-8c76-40d1-949d-d5326b954aed",
   "metadata": {},
   "outputs": [],
   "source": [
    "import torch"
   ]
  },
  {
   "cell_type": "code",
   "execution_count": 21,
   "id": "143da18c",
   "metadata": {},
   "outputs": [
    {
     "name": "stdout",
     "output_type": "stream",
     "text": [
      "tensor([1., 1., 1.], requires_grad=True)\n",
      "tensor(1., grad_fn=<MeanBackward0>)\n",
      "tensor([0.3333, 0.3333, 0.3333])\n"
     ]
    }
   ],
   "source": [
    "# 1-Firstly, defining x, requires_grad argument must be set True:\n",
    "x = torch.tensor([1.,1.,1.], requires_grad=True)\n",
    "print(x)\n",
    "# 2-Secondly, define y\n",
    "y = x.mean()\n",
    "print(y)\n",
    "# 3-Third, use back propogation to compute the gradient of y\n",
    "y.backward()\n",
    "#4-Fourth, As pytorch stores the gradient in the grad argument of x\n",
    "# read it as:\n",
    "print(x.grad)"
   ]
  },
  {
   "cell_type": "markdown",
   "id": "412691b9",
   "metadata": {},
   "source": [
    "### 2 - Non-Scalar Domain\n",
    "Given a non-scalar fnction y:R^3 --> R^3, y = y(x), i.e., with a  non-scalar domain R^3, (e.g., y = x+2), \n",
    "Compute the gradient of y, dy/dx = (dy/dx1,dy/dx2,dy/dx3), \n",
    "scaled at a given tensor v, i.e., component-wise product of v and dy/dx"
   ]
  },
  {
   "cell_type": "code",
   "execution_count": 24,
   "id": "125d8f20",
   "metadata": {},
   "outputs": [
    {
     "name": "stdout",
     "output_type": "stream",
     "text": [
      "tensor([4., 2., 2.])\n"
     ]
    }
   ],
   "source": [
    "# via specifying the gradient argument of backward: \n",
    "x = torch.tensor([1.,1.,1.], requires_grad=True)\n",
    "y = 2*x+2\n",
    "v = torch.tensor([2.0,1.0,1.0])\n",
    "y.backward(gradient =v)\n",
    "print(x.grad)"
   ]
  },
  {
   "cell_type": "markdown",
   "id": "76a7014c",
   "metadata": {},
   "source": [
    "### 3 - Chain Rule\n",
    "Given a  combination of functions mean(z(y(x))), \n",
    "compute d mean/dx"
   ]
  },
  {
   "cell_type": "code",
   "execution_count": 27,
   "id": "962e192a",
   "metadata": {},
   "outputs": [
    {
     "name": "stdout",
     "output_type": "stream",
     "text": [
      "x  tensor([0.1006, 0.1516, 0.0172], requires_grad=True)\n",
      "y  tensor([2.1006, 2.1516, 2.0172], grad_fn=<AddBackward0>)\n",
      "z  tensor([6.4124, 6.6295, 6.0691], grad_fn=<AddBackward0>)\n",
      "zmean  tensor(6.3703, grad_fn=<MeanBackward0>)\n",
      "tensor([1.4004, 1.4344, 1.3448])\n"
     ]
    }
   ],
   "source": [
    "x=torch.rand(3,requires_grad=True)\n",
    "print(\"x \",x)\n",
    "y = x+2\n",
    "print(\"y \", y)\n",
    "z = y**2+2\n",
    "print(\"z \",z)\n",
    "z = z.mean()\n",
    "print(\"zmean \", z)\n",
    "z.backward() # computes dz/dx = dz/dy * dy/dx\n",
    "print(x.grad)"
   ]
  },
  {
   "cell_type": "code",
   "execution_count": 29,
   "id": "6d2652e7",
   "metadata": {},
   "outputs": [
    {
     "name": "stdout",
     "output_type": "stream",
     "text": [
      "tensor([0.1006, 0.1516, 0.0172], requires_grad=True)\n",
      "tensor([0.1006, 0.1516, 0.0172])\n",
      "tensor([0.1006, 0.1516, 0.0172])\n",
      "tensor([2.1006, 2.1516, 2.0172])\n"
     ]
    }
   ],
   "source": [
    "# Prevent tracking computed gradients\n",
    "# solution 1: requires_grad set to false\n",
    "print(x)\n",
    "x.requires_grad_(False)\n",
    "print(x)\n",
    "\n",
    "#solution 2: detach\n",
    "xd = x.detach()\n",
    "print(xd)\n",
    "\n",
    "#solution 3: no_grad function\n",
    "with torch.no_grad():\n",
    "    y = x+2\n",
    "    print(y)"
   ]
  },
  {
   "cell_type": "code",
   "execution_count": 31,
   "id": "0f23c39d",
   "metadata": {},
   "outputs": [
    {
     "name": "stdout",
     "output_type": "stream",
     "text": [
      "tensor([3., 3., 3., 3.])\n",
      "tensor([3., 3., 3., 3.])\n",
      "tensor([3., 3., 3., 3.])\n"
     ]
    }
   ],
   "source": [
    "# each time running backward will accommulate/add values to \n",
    "# the previous value of .grad\n",
    "#IMPORTANT FOR TRAINING STEPS\n",
    "weights = torch.ones(4, requires_grad=True)\n",
    "for epoch in range(3):\n",
    "    model_output = (weights*3).sum()\n",
    "    model_output.backward()\n",
    "    print(weights.grad)\n",
    "    weights.grad.zero_() # this prevents accummulation of values "
   ]
  },
  {
   "cell_type": "code",
   "execution_count": 35,
   "id": "510de8b1",
   "metadata": {},
   "outputs": [],
   "source": [
    "# Example of preventing accummulation from\n",
    "# optimizer from Stochastic Gradient Descent\n",
    "weights = torch.ones(4, requires_grad=True)\n",
    "#print(weights)\n",
    "optimizer = torch.optim.SGD([weights], lr=0.01)\n",
    "optimizer.step()\n",
    "optimizer.zero_grad()"
   ]
  },
  {
   "cell_type": "markdown",
   "id": "b306cc8d",
   "metadata": {},
   "source": [
    "## Backpropogation Example\n",
    "\n",
    "Loss Function's gradient is usually computed, where \n",
    "y_hat = w *x is a linear regression\n",
    "\n",
    "s = y_hat - y\n",
    "\n",
    "loss = s**2\n",
    "\n",
    "More at:\n",
    "https://pytorch.org/tutorials/beginner/blitz/autograd_tutorial.html"
   ]
  },
  {
   "cell_type": "code",
   "execution_count": 53,
   "id": "9126d113",
   "metadata": {},
   "outputs": [
    {
     "name": "stdout",
     "output_type": "stream",
     "text": [
      "tensor(1., grad_fn=<PowBackward0>)\n",
      "tensor(-2.)\n"
     ]
    }
   ],
   "source": [
    "x = torch.tensor(1.)\n",
    "y = torch.tensor(2.)\n",
    "w = torch.tensor(1., requires_grad=True) # for weight we'd like grad\n",
    "\n",
    "#forward pass and compute loss\n",
    "y_hat = w * x\n",
    "loss = (y_hat -y)**2\n",
    "print(loss)\n",
    "\n",
    "# backward pass\n",
    "loss.backward()\n",
    "print(w.grad)"
   ]
  },
  {
   "cell_type": "code",
   "execution_count": null,
   "id": "b08ff062",
   "metadata": {},
   "outputs": [],
   "source": []
  }
 ],
 "metadata": {
  "kernelspec": {
   "display_name": "Python 3 (ipykernel)",
   "language": "python",
   "name": "python3"
  },
  "language_info": {
   "codemirror_mode": {
    "name": "ipython",
    "version": 3
   },
   "file_extension": ".py",
   "mimetype": "text/x-python",
   "name": "python",
   "nbconvert_exporter": "python",
   "pygments_lexer": "ipython3",
   "version": "3.12.4"
  }
 },
 "nbformat": 4,
 "nbformat_minor": 5
}
