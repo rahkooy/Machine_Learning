{
 "cells": [
  {
   "cell_type": "markdown",
   "id": "5d8e02c2",
   "metadata": {},
   "source": [
    "# Overfitting/Underfitting for Decision Tree\n",
    "https://www.kaggle.com/code/dansbecker/underfitting-and-overfitting\n",
    "\n",
    " Assume having a Decision Tree model. \n",
    " \n",
    "-Overfitting: mae error on training data is low but validation error is high. It happend when the tree depth is big.\n",
    "\n",
    "-Underfitting: mae error is high and probably validation is bad too. It happend when tree depth is low.\n",
    "\n",
    "-How to overcome: find min of mae when tree depth changes, ie when max_leaf_node changes."
   ]
  },
  {
   "cell_type": "code",
   "execution_count": 22,
   "id": "713ccee9",
   "metadata": {},
   "outputs": [],
   "source": [
    "# A utility function to compute mae for different max_leaf_nodes\n",
    "from sklearn.metrics import mean_absolute_error\n",
    "from sklearn.tree import DecisionTreeRegressor\n",
    "from sklearn.model_selection import train_test_split\n",
    "\n",
    "def get_mae(max_leaf_nodes, X_train, X_test, y_train, y_test):\n",
    "    model = DecisionTreeRegressor(max_leaf_nodes=max_leaf_nodes, random_state=0)\n",
    "    model.fit(X_train, y_train)\n",
    "    y_pred = model.predict(X_test)  # Predict using X_test, not y_test\n",
    "    mae = mean_absolute_error(y_test, y_pred)\n",
    "    return mae"
   ]
  },
  {
   "cell_type": "code",
   "execution_count": 23,
   "id": "7e37328d",
   "metadata": {},
   "outputs": [
    {
     "name": "stdout",
     "output_type": "stream",
     "text": [
      "Max Leaf nodes: 5 \t \t Mean Absolute Error: 0.334646\n",
      "Max Leaf nodes: 50 \t \t Mean Absolute Error: 0.342105\n",
      "Max Leaf nodes: 500 \t \t Mean Absolute Error: 0.342105\n",
      "Max Leaf nodes: 5000 \t \t Mean Absolute Error: 0.342105\n"
     ]
    }
   ],
   "source": [
    "# Load the iris dataset\n",
    "from sklearn.datasets import load_iris\n",
    "\n",
    "iris = load_iris()\n",
    "X = iris.data[:, :2]  # Use the first two features\n",
    "y = iris.target\n",
    "\n",
    "# Split the data into training and testing sets\n",
    "X_train, X_test, y_train, y_test = train_test_split(X, y, random_state=0)\n",
    "\n",
    "# Loop over different values for max_leaf_nodes\n",
    "for max_leaf_nodes in [5, 50, 500, 5000]:\n",
    "    my_mae = get_mae(max_leaf_nodes, X_train, X_test, y_train, y_test)  # Assign the result to my_mae\n",
    "    print(\"Max Leaf nodes: %d \\t \\t Mean Absolute Error: %f\" % (max_leaf_nodes, my_mae))"
   ]
  },
  {
   "cell_type": "markdown",
   "id": "e0876ecb",
   "metadata": {},
   "source": [
    "## Conclusion. Avoid over/underfitting by taking max_leaf_nodes = 500"
   ]
  }
 ],
 "metadata": {
  "kernelspec": {
   "display_name": "Python 3 (ipykernel)",
   "language": "python",
   "name": "python3"
  },
  "language_info": {
   "codemirror_mode": {
    "name": "ipython",
    "version": 3
   },
   "file_extension": ".py",
   "mimetype": "text/x-python",
   "name": "python",
   "nbconvert_exporter": "python",
   "pygments_lexer": "ipython3",
   "version": "3.8.18"
  }
 },
 "nbformat": 4,
 "nbformat_minor": 5
}
