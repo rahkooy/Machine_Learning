{
 "cells": [
  {
   "cell_type": "markdown",
   "id": "facd62c3-56ba-46af-b10d-141450e10f86",
   "metadata": {},
   "source": [
    "# Cross Validation Example\n",
    "https://www.w3schools.com/python/python_ml_cross_validation.asp\n",
    "\n",
    "https://scikit-learn.org/stable/modules/cross_validation.html"
   ]
  },
  {
   "cell_type": "code",
   "execution_count": 1,
   "id": "88072783-c79b-41b9-8ded-e9748fea6c52",
   "metadata": {},
   "outputs": [],
   "source": [
    "# Dataset: iris\n",
    "from sklearn import datasets\n",
    "X, y = datasets.load_iris(return_X_y=True)"
   ]
  },
  {
   "cell_type": "code",
   "execution_count": 2,
   "id": "d63d4141-e12b-452b-8223-737ef9a2beec",
   "metadata": {},
   "outputs": [],
   "source": [
    "# In this example use decision tree classifier\n",
    "from sklearn.tree import DecisionTreeClassifier\n",
    "from sklearn.model_selection import KFold, cross_val_score"
   ]
  },
  {
   "cell_type": "code",
   "execution_count": 3,
   "id": "515e7057-eda3-47c3-a59b-51b4ea8e1d6f",
   "metadata": {},
   "outputs": [],
   "source": [
    "clf = DecisionTreeClassifier(random_state=42)"
   ]
  },
  {
   "cell_type": "code",
   "execution_count": 4,
   "id": "19a02965-32bd-4579-aee8-ac4cbaad5019",
   "metadata": {},
   "outputs": [],
   "source": [
    "k_fold = KFold(n_splits=5)\n",
    "scores = cross_val_score(clf, X, y, cv = k_fold)"
   ]
  },
  {
   "cell_type": "code",
   "execution_count": 5,
   "id": "d771c675-24c5-487a-8dbb-f4c647069721",
   "metadata": {},
   "outputs": [
    {
     "name": "stdout",
     "output_type": "stream",
     "text": [
      "Cross Validation scores:  [1.         1.         0.83333333 0.93333333 0.8       ]\n",
      "Average CV Score:  <built-in method mean of numpy.ndarray object at 0x7fccd9de9530>\n",
      "Number of CV Scores used in Averages:  5\n"
     ]
    }
   ],
   "source": [
    "print(\"Cross Validation scores: \", scores)\n",
    "print(\"Average CV Score: \", scores.mean)\n",
    "print(\"Number of CV Scores used in Averages: \", len(scores))"
   ]
  },
  {
   "cell_type": "code",
   "execution_count": 8,
   "id": "13184aec-bc18-46ce-be7a-3de14aaffb25",
   "metadata": {},
   "outputs": [
    {
     "name": "stdout",
     "output_type": "stream",
     "text": [
      "Cross Validation scores:  [0.96666667 0.96666667 0.9        0.93333333 1.        ]\n",
      "Average CV Score:  <built-in method mean of numpy.ndarray object at 0x7fccd8cf7c90>\n",
      "Number of CV Scores used in Averages:  5\n"
     ]
    }
   ],
   "source": [
    "# For imbalanced data use stratified K-fold:\n",
    "from sklearn.model_selection import StratifiedKFold\n",
    "sk_fold = StratifiedKFold(n_splits = 5)\n",
    "sk_scores = cross_val_score(clf, X, y, cv = sk_fold)\n",
    "print(\"Cross Validation scores: \", sk_scores)\n",
    "print(\"Average CV Score: \", sk_scores.mean)\n",
    "print(\"Number of CV Scores used in Averages: \", len(sk_scores))"
   ]
  },
  {
   "cell_type": "markdown",
   "id": "6446cdb8-9148-497f-a28e-23eb2fc16379",
   "metadata": {},
   "source": [
    "### Note.  the average CV increases from the basic k-fold "
   ]
  },
  {
   "cell_type": "markdown",
   "id": "0462d385-6fb5-49d5-923a-c1a010574c15",
   "metadata": {},
   "source": [
    "### Note. There are several other CV methods: \n",
    "Leave-One-Out (LOO)\n",
    "\n",
    "Leave-P-Out (LPO)\n",
    "\n",
    "Shuffle Split"
   ]
  },
  {
   "cell_type": "markdown",
   "id": "33ba71a9-493b-4ade-ab0f-31744958a230",
   "metadata": {},
   "source": [
    "### Prediction Using Cross Validation:"
   ]
  },
  {
   "cell_type": "code",
   "execution_count": 14,
   "id": "4bd5b58d-b430-46ed-bbde-f363f1d33bc4",
   "metadata": {},
   "outputs": [
    {
     "name": "stdout",
     "output_type": "stream",
     "text": [
      "[1.5        1.5        1.5        1.5        1.5        1.5\n",
      " 1.5        1.5        1.5        1.5        1.5        1.5\n",
      " 1.5        1.5        1.5        1.5        1.5        1.5\n",
      " 1.5        1.5        1.5        1.5        1.5        1.5\n",
      " 1.5        1.5        1.5        1.5        1.5        1.5\n",
      " 1.5        1.5        1.5        1.5        1.5        1.5\n",
      " 1.5        1.5        1.5        1.5        1.5        1.5\n",
      " 1.5        1.5        1.5        1.5        1.5        1.5\n",
      " 1.5        1.5        1.28685466 1.23876503 1.3349443  1.11854095\n",
      " 1.26280985 1.23876503 1.28685466 0.95022723 1.26280985 1.09449613\n",
      " 0.99831686 1.16663058 1.11854095 1.28685466 1.02236168 1.21472021\n",
      " 1.23876503 1.14258576 1.23876503 1.09449613 1.31089948 1.11854095\n",
      " 1.3349443  1.28685466 1.1906754  1.21472021 1.31089948 1.35898911\n",
      " 1.23876503 0.99831686 1.07045131 1.0464065  1.09449613 1.38303393\n",
      " 1.23876503 1.23876503 1.28685466 1.21472021 1.14258576 1.11854095\n",
      " 1.21472021 1.26280985 1.11854095 0.95022723 1.16663058 1.16663058\n",
      " 1.16663058 1.1906754  0.87809278 1.14258576 0.5        0.5\n",
      " 0.5        0.5        0.5        0.5        0.5        0.5\n",
      " 0.5        0.5        0.5        0.5        0.5        0.5\n",
      " 0.5        0.5        0.5        0.5        0.5        0.5\n",
      " 0.5        0.5        0.5        0.5        0.5        0.5\n",
      " 0.5        0.5        0.5        0.5        0.5        0.5\n",
      " 0.5        0.5        0.5        0.5        0.5        0.5\n",
      " 0.5        0.5        0.5        0.5        0.5        0.5\n",
      " 0.5        0.5        0.5        0.5        0.5        0.5       ]\n"
     ]
    }
   ],
   "source": [
    "from sklearn import linear_model\n",
    "from sklearn.model_selection import cross_val_predict\n",
    "lasso = linear_model.Lasso()\n",
    "y_pred = cross_val_predict(lasso, X, y, cv =3)\n",
    "print(y_pred)"
   ]
  },
  {
   "cell_type": "code",
   "execution_count": null,
   "id": "7e127cb4-3e07-4cea-a2b3-3d5fcacdf516",
   "metadata": {},
   "outputs": [],
   "source": []
  }
 ],
 "metadata": {
  "kernelspec": {
   "display_name": "Python 3 (ipykernel)",
   "language": "python",
   "name": "python3"
  },
  "language_info": {
   "codemirror_mode": {
    "name": "ipython",
    "version": 3
   },
   "file_extension": ".py",
   "mimetype": "text/x-python",
   "name": "python",
   "nbconvert_exporter": "python",
   "pygments_lexer": "ipython3",
   "version": "3.8.18"
  }
 },
 "nbformat": 4,
 "nbformat_minor": 5
}
