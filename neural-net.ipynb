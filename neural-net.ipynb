{
 "cells": [
  {
   "cell_type": "markdown",
   "id": "9d4b5476-0e49-46b4-aeba-2ae149fcdbfd",
   "metadata": {},
   "source": [
    "# Neural Networks Examples\n",
    "https://www.kaggle.com/learn/intro-to-deep-learning"
   ]
  },
  {
   "cell_type": "code",
   "execution_count": 15,
   "id": "8e019881-5ad7-4460-88e4-a45e8bda3f39",
   "metadata": {},
   "outputs": [],
   "source": [
    "# Tensorflow library and keras from this library is used for building NNs\n",
    "from tensorflow import keras\n",
    "from tensorflow.keras import layers "
   ]
  },
  {
   "cell_type": "code",
   "execution_count": 16,
   "id": "b0988572-e7e3-4409-a5eb-1d3e1920d844",
   "metadata": {},
   "outputs": [
    {
     "name": "stderr",
     "output_type": "stream",
     "text": [
      "/home/rahkooy/.local/lib/python3.10/site-packages/keras/src/layers/core/dense.py:87: UserWarning: Do not pass an `input_shape`/`input_dim` argument to a layer. When using Sequential models, prefer using an `Input(shape)` object as the first layer in the model instead.\n",
      "  super().__init__(activity_regularizer=activity_regularizer, **kwargs)\n"
     ]
    }
   ],
   "source": [
    "#Goal: create a linear model accepting three input features and producing a single output\n",
    "\n",
    "# Sequential creates stack of layers\n",
    "model = keras.Sequential([\n",
    "    layers.Dense(units =1, input_shape=[3]) # unites=output unit, input_shape[number of feature cols]\n",
    "])"
   ]
  },
  {
   "cell_type": "markdown",
   "id": "db8cf82a-d9ae-48c9-97b0-d8ecd8451aa4",
   "metadata": {},
   "source": [
    "## Exercise\n",
    "https://www.kaggle.com/code/hamidrahkooy/exercise-a-single-neuron/edit"
   ]
  },
  {
   "cell_type": "code",
   "execution_count": 17,
   "id": "7c94048b-bcae-4181-9de0-2a59e7e3d4ed",
   "metadata": {},
   "outputs": [
    {
     "ename": "NameError",
     "evalue": "name 'final_car_data' is not defined",
     "output_type": "error",
     "traceback": [
      "\u001b[0;31m---------------------------------------------------------------------------\u001b[0m",
      "\u001b[0;31mNameError\u001b[0m                                 Traceback (most recent call last)",
      "\u001b[0;32m/tmp/ipykernel_12381/2635648054.py\u001b[0m in \u001b[0;36m<module>\u001b[0;34m\u001b[0m\n\u001b[1;32m      1\u001b[0m \u001b[0;32mimport\u001b[0m \u001b[0mpandas\u001b[0m \u001b[0;32mas\u001b[0m \u001b[0mpd\u001b[0m\u001b[0;34m\u001b[0m\u001b[0;34m\u001b[0m\u001b[0m\n\u001b[1;32m      2\u001b[0m \u001b[0;34m\u001b[0m\u001b[0m\n\u001b[0;32m----> 3\u001b[0;31m \u001b[0mcar_df\u001b[0m \u001b[0;34m=\u001b[0m \u001b[0mpd\u001b[0m\u001b[0;34m.\u001b[0m\u001b[0mread_csv\u001b[0m\u001b[0;34m(\u001b[0m\u001b[0mfinal_car_data\u001b[0m\u001b[0;34m.\u001b[0m\u001b[0mcsv\u001b[0m\u001b[0;34m)\u001b[0m\u001b[0;34m\u001b[0m\u001b[0;34m\u001b[0m\u001b[0m\n\u001b[0m\u001b[1;32m      4\u001b[0m \u001b[0mcar_df\u001b[0m\u001b[0;34m.\u001b[0m\u001b[0mhead\u001b[0m\u001b[0;34m(\u001b[0m\u001b[0;34m)\u001b[0m\u001b[0;34m\u001b[0m\u001b[0;34m\u001b[0m\u001b[0m\n\u001b[1;32m      5\u001b[0m \u001b[0;34m\u001b[0m\u001b[0m\n",
      "\u001b[0;31mNameError\u001b[0m: name 'final_car_data' is not defined"
     ]
    }
   ],
   "source": [
    "import pandas as pd\n",
    "\n",
    "car_df = pd.read_csv(final_car_data.csv)\n",
    "car_df.head()\n",
    "\n"
   ]
  },
  {
   "cell_type": "code",
   "execution_count": null,
   "id": "8564105c-ddea-4e9b-b90b-f36a2a562a01",
   "metadata": {},
   "outputs": [],
   "source": []
  },
  {
   "cell_type": "code",
   "execution_count": null,
   "id": "104af3bb-6fbe-42a5-a62b-860908ce108e",
   "metadata": {},
   "outputs": [],
   "source": []
  }
 ],
 "metadata": {
  "kernelspec": {
   "display_name": "Python 3 (ipykernel)",
   "language": "python",
   "name": "python3"
  },
  "language_info": {
   "codemirror_mode": {
    "name": "ipython",
    "version": 3
   },
   "file_extension": ".py",
   "mimetype": "text/x-python",
   "name": "python",
   "nbconvert_exporter": "python",
   "pygments_lexer": "ipython3",
   "version": "3.10.12"
  }
 },
 "nbformat": 4,
 "nbformat_minor": 5
}
